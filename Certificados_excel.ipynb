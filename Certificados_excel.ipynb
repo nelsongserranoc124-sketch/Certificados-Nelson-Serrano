{
  "nbformat": 4,
  "nbformat_minor": 0,
  "metadata": {
    "colab": {
      "provenance": [],
      "mount_file_id": "11YMBCnfcGrTLSeyIgKW_-Cyq3Aw-og71",
      "authorship_tag": "ABX9TyN1AHl4YZf4klKjGHd3V1cq",
      "include_colab_link": true
    },
    "kernelspec": {
      "name": "python3",
      "display_name": "Python 3"
    },
    "language_info": {
      "name": "python"
    }
  },
  "cells": [
    {
      "cell_type": "markdown",
      "metadata": {
        "id": "view-in-github",
        "colab_type": "text"
      },
      "source": [
        "<a href=\"https://colab.research.google.com/github/nelsongserranoc124-sketch/Certificados-Nelson-Serrano/blob/main/Certificados_excel.ipynb\" target=\"_parent\"><img src=\"https://colab.research.google.com/assets/colab-badge.svg\" alt=\"Open In Colab\"/></a>"
      ]
    },
    {
      "cell_type": "code",
      "source": [
        "pip install reportlab pandas openpyxl\n"
      ],
      "metadata": {
        "colab": {
          "base_uri": "https://localhost:8080/"
        },
        "id": "oUia8j7rXj10",
        "outputId": "176f9169-ada0-41cd-a55a-538ef056dbce"
      },
      "execution_count": 5,
      "outputs": [
        {
          "output_type": "stream",
          "name": "stdout",
          "text": [
            "Requirement already satisfied: reportlab in /usr/local/lib/python3.12/dist-packages (4.4.4)\n",
            "Requirement already satisfied: pandas in /usr/local/lib/python3.12/dist-packages (2.2.2)\n",
            "Requirement already satisfied: openpyxl in /usr/local/lib/python3.12/dist-packages (3.1.5)\n",
            "Requirement already satisfied: pillow>=9.0.0 in /usr/local/lib/python3.12/dist-packages (from reportlab) (11.3.0)\n",
            "Requirement already satisfied: charset-normalizer in /usr/local/lib/python3.12/dist-packages (from reportlab) (3.4.4)\n",
            "Requirement already satisfied: numpy>=1.26.0 in /usr/local/lib/python3.12/dist-packages (from pandas) (2.0.2)\n",
            "Requirement already satisfied: python-dateutil>=2.8.2 in /usr/local/lib/python3.12/dist-packages (from pandas) (2.9.0.post0)\n",
            "Requirement already satisfied: pytz>=2020.1 in /usr/local/lib/python3.12/dist-packages (from pandas) (2025.2)\n",
            "Requirement already satisfied: tzdata>=2022.7 in /usr/local/lib/python3.12/dist-packages (from pandas) (2025.2)\n",
            "Requirement already satisfied: et-xmlfile in /usr/local/lib/python3.12/dist-packages (from openpyxl) (2.0.0)\n",
            "Requirement already satisfied: six>=1.5 in /usr/local/lib/python3.12/dist-packages (from python-dateutil>=2.8.2->pandas) (1.17.0)\n"
          ]
        }
      ]
    },
    {
      "cell_type": "code",
      "source": [
        "import pandas as pd\n",
        "from reportlab.pdfgen import canvas\n",
        "from reportlab.lib.pagesizes import landscape, A4\n",
        "from reportlab.lib.utils import ImageReader\n",
        "import os\n",
        "\n",
        "# =================== CONFIGURACIÓN ===================\n",
        "ruta_excel = \"/content/drive/MyDrive/Ciencia de datos/certificados/datos (1).xlsx\"  # Cambia al nombre exacto que subas\n",
        "ruta_plantilla = \"/content/drive/MyDrive/Ciencia de datos/certificados/Certificado Diploma de Reconocimiento Profesional Clásico Dorado y Azul.png\"\n",
        "carpeta_salida = \"/content/drive/MyDrive/Ciencia de datos/certificados/cersal\"\n",
        "\n",
        "os.makedirs(carpeta_salida, exist_ok=True)\n",
        "\n",
        "# Columnas que se deben leer\n",
        "columnas_nombres = [\n",
        "    \"Nombre completo del estudiante 1\",\n",
        "    \"Nombre completo del estudiante 2\",\n",
        "    \"Nombre completo del estudiante 3\",\n",
        "    \"Nombre completo del estudiante 4\",\n",
        "    \"Nombre completo del estudiante 5\"\n",
        "]\n",
        "\n",
        "columnas_codigos = [\n",
        "    \"Código del estudiante 1\",\n",
        "    \"Código del estudiante 2\",\n",
        "    \"Código del estudiante 3\",\n",
        "    \"Código del estudiante 4\",\n",
        "    \"Código del estudiante 5\"\n",
        "]\n",
        "\n",
        "# Cargar Excel\n",
        "df = pd.read_excel(ruta_excel)\n",
        "\n",
        "# Filter rows where at least the first student's name and code are not null\n",
        "df_filtered = df.dropna(subset=[columnas_nombres[0], columnas_codigos[0]])\n",
        "\n",
        "\n",
        "# Iterar filas del Excel (using the filtered DataFrame)\n",
        "for index, row in df_filtered.iterrows():\n",
        "\n",
        "    proyecto = str(row[\"Nombre del Proyecto\"])\n",
        "    espacio = str(row[\"Selecciona el espacio académico\"])\n",
        "\n",
        "    # Iterar estudiantes del grupo\n",
        "    for i in range(len(columnas_nombres)):\n",
        "        col_nombre = columnas_nombres[i]\n",
        "        col_codigo = columnas_codigos[i]\n",
        "\n",
        "        # Check if the columns exist in the DataFrame for the current row\n",
        "        if col_nombre in row and col_codigo in row:\n",
        "            nombre = row[col_nombre]\n",
        "            codigo = row[col_codigo]\n",
        "\n",
        "            # Saltar si está vacío\n",
        "            if pd.isna(nombre) or pd.isna(codigo):\n",
        "                continue\n",
        "\n",
        "            nombre = str(nombre).strip()\n",
        "            codigo = str(codigo).strip()\n",
        "\n",
        "            # Nombre del PDF\n",
        "            ruta_pdf = f\"{carpeta_salida}/{codigo}_{nombre.replace(' ','_')}.pdf\"\n",
        "\n",
        "            # Crear PDF\n",
        "            pdf = canvas.Canvas(ruta_pdf, pagesize=landscape(A4))\n",
        "            ancho, alto = landscape(A4)\n",
        "\n",
        "            # Fondo plantilla\n",
        "            plantilla = ImageReader(ruta_plantilla)\n",
        "            pdf.drawImage(plantilla, 0, 0, width=ancho, height=alto)\n",
        "\n",
        "            # ====== TEXTO SOBRE CERTIFICADO ======\n",
        "            pdf.setFont(\"Times-Bold\", 28)\n",
        "            pdf.drawCentredString(ancho/2, alto*0.52, nombre)\n",
        "\n",
        "            pdf.setFont(\"Times-Roman\", 18)\n",
        "            pdf.drawCentredString(ancho/2, alto*0.47, f\"Código: {codigo}\")\n",
        "\n",
        "            pdf.setFont(\"Times-Roman\", 18)\n",
        "            pdf.drawCentredString(ancho/2, alto*0.43, f\"Proyecto: {proyecto}\")\n",
        "\n",
        "            pdf.setFont(\"Times-Roman\", 18)\n",
        "            pdf.drawCentredString(ancho/2, alto*0.39, f\"Espacio Académico: {espacio}\")\n",
        "\n",
        "            pdf.save()\n",
        "        else:\n",
        "            # If the columns for a student don't exist, stop iterating for this row\n",
        "            break\n",
        "\n",
        "print(\"✅ Certificados generados en:\", carpeta_salida)"
      ],
      "metadata": {
        "colab": {
          "base_uri": "https://localhost:8080/"
        },
        "id": "gZ8GbTtrXpdU",
        "outputId": "44c2098b-4355-4cae-dcbc-0741e1d7cdfc"
      },
      "execution_count": 10,
      "outputs": [
        {
          "output_type": "stream",
          "name": "stdout",
          "text": [
            "✅ Certificados generados en: /content/drive/MyDrive/Ciencia de datos/certificados/cersal\n"
          ]
        }
      ]
    }
  ]
}